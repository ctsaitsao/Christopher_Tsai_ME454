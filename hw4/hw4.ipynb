{
 "cells": [
  {
   "cell_type": "markdown",
   "metadata": {},
   "source": [
    "# ME 454 Homework 4\n",
    "## By: Christopher Tsai"
   ]
  },
  {
   "cell_type": "code",
   "execution_count": 79,
   "metadata": {},
   "outputs": [],
   "source": [
    "import numpy as np\n",
    "import sympy as sym\n",
    "import matplotlib.pyplot as plt\n",
    "from IPython.display import display"
   ]
  },
  {
   "cell_type": "markdown",
   "metadata": {},
   "source": [
    "Problem 1:"
   ]
  },
  {
   "cell_type": "code",
   "execution_count": 81,
   "metadata": {
    "scrolled": true
   },
   "outputs": [
    {
     "name": "stdout",
     "output_type": "stream",
     "text": [
      "Minimizer is: xi = \n"
     ]
    },
    {
     "data": {
      "text/latex": [
       "$\\displaystyle \\left[\\begin{matrix}3.73346198932927 \\cdot 10^{-6}\\\\2.04343711701928 \\cdot 10^{-8}\\end{matrix}\\right]$"
      ],
      "text/plain": [
       "Matrix([\n",
       "[3.73346198932927e-6],\n",
       "[2.04343711701928e-8]])"
      ]
     },
     "metadata": {},
     "output_type": "display_data"
    },
    {
     "name": "stdout",
     "output_type": "stream",
     "text": [
      "(essentially the coordinate origin)\n"
     ]
    }
   ],
   "source": [
    "alpha = 0.4\n",
    "beta = 0.7\n",
    "epsilon = 10e-6\n",
    "\n",
    "x1, x2 = sym.symbols('x1, x2')\n",
    "x = sym.Matrix([[x1], [x2]])\n",
    "\n",
    "f = x[0,0]**2 + 100*x[1,0]**2\n",
    "Df = sym.Matrix([[sym.diff(f, x1)], [sym.diff(f, x2)]])\n",
    "z = -Df\n",
    "Df_z = Df[0,0]*z[0,0] + Df[1,0]*z[1,0]\n",
    "\n",
    "xi = x.subs({x1: 10, x2: 10})    # initial guess\n",
    "fi = f.subs({x1: xi[0,0], x2: xi[1,0]})\n",
    "Dfi = Df.subs({x1: xi[0,0], x2: xi[1,0]})\n",
    "zi = z.subs({x1: xi[0,0], x2: xi[1,0]})\n",
    "Df_zi = Df_z.subs({x1: xi[0,0], x2: xi[1,0]})\n",
    "\n",
    "i = 0\n",
    "f_list = []\n",
    "f_list.append(fi)\n",
    "\n",
    "while Dfi.norm() > epsilon:\n",
    "    n = 0\n",
    "    gamma = beta**n\n",
    "        \n",
    "    while (f.subs({x1: xi[0,0] + gamma*zi[0,0], x2: xi[1,0] + gamma*zi[1,0]})) > (fi + (alpha*gamma*Df_zi)):\n",
    "            n += 1\n",
    "            gamma = beta**n\n",
    "            \n",
    "    xi += gamma*zi\n",
    "           \n",
    "    fi = f.subs({x1: xi[0,0], x2: xi[1,0]})\n",
    "    Dfi = Df.subs({x1: xi[0,0], x2: xi[1,0]})\n",
    "    zi = z.subs({x1: xi[0,0], x2: xi[1,0]})\n",
    "    Df_zi = Df_z.subs({x1: xi[0,0], x2: xi[1,0]})\n",
    "\n",
    "    f_list.append(fi)\n",
    "    i += 1\n",
    "               \n",
    "print(\"Minimizer is: xi = \")\n",
    "display(xi)\n",
    "print(\"(essentially the coordinate origin)\")"
   ]
  },
  {
   "cell_type": "code",
   "execution_count": 82,
   "metadata": {},
   "outputs": [
    {
     "data": {
      "image/png": "[encoded data removed]",
      "text/plain": [
       "<Figure size 750x500 with 1 Axes>"
      ]
     },
     "metadata": {},
     "output_type": "display_data"
    }
   ],
   "source": [
    "plt.figure(dpi=125, facecolor='w')\n",
    "plt.plot([j for j in range(len(f_list))], [f_list[k] for k in range(len(f_list))])\n",
    "plt.xlabel('iteration')\n",
    "plt.ylabel('f(x,y)')\n",
    "plt.grid(True)\n",
    "plt.title(\"Plot of f(x,y) for every iteration (all iterations)\")\n",
    "plt.show()"
   ]
  },
  {
   "cell_type": "markdown",
   "metadata": {},
   "source": [
    "Problem 2 Part a:"
   ]
  },
  {
   "cell_type": "code",
   "execution_count": 83,
   "metadata": {},
   "outputs": [
    {
     "name": "stdout",
     "output_type": "stream",
     "text": [
      "The directional derivative of f(X) in the direction of Z is:\n"
     ]
    },
    {
     "data": {
      "text/latex": [
       "$\\displaystyle - 4 x_{11}^{2} - 400 x_{12}^{2} - 4 x_{21}^{2} - 400 x_{22}^{2}$"
      ],
      "text/plain": [
       "-4*x11**2 - 400*x12**2 - 4*x21**2 - 400*x22**2"
      ]
     },
     "execution_count": 83,
     "metadata": {},
     "output_type": "execute_result"
    }
   ],
   "source": [
    "x11, x12, x21, x22 = sym.symbols('x11, x12, x21, x22')\n",
    "\n",
    "v1 = sym.Matrix([[1], [0]])\n",
    "v2 = sym.Matrix([[0], [1]])\n",
    "\n",
    "X = sym.Matrix([[x11, x12], [x21, x22]])\n",
    "\n",
    "f = v1.T*X.T*X*v1 + 10*v2.T*X.T*X*v2\n",
    "Df = sym.Matrix([[sym.diff(f, x11), sym.diff(f, x12)], [sym.diff(f, x21), sym.diff(f, x22)]])\n",
    "Z = -Df\n",
    "\n",
    "Df_Z = Df[0,0]*Z[0,0] + Df[0,1]*Z[0,1] + Df[1,0]*Z[1,0] + Df[1,1]*Z[1,1]\n",
    "\n",
    "print(\"The directional derivative of f(X) in the direction of Z is:\")\n",
    "Df_Z"
   ]
  },
  {
   "cell_type": "markdown",
   "metadata": {},
   "source": [
    "Problem 2 Part b:"
   ]
  },
  {
   "cell_type": "code",
   "execution_count": 84,
   "metadata": {},
   "outputs": [
    {
     "name": "stdout",
     "output_type": "stream",
     "text": [
      "The gradient of f(X) is:\n"
     ]
    },
    {
     "data": {
      "text/latex": [
       "$\\displaystyle \\left[\\begin{matrix}2 x_{11} & 20 x_{12}\\\\2 x_{21} & 20 x_{22}\\end{matrix}\\right]$"
      ],
      "text/plain": [
       "Matrix([\n",
       "[2*x11, 20*x12],\n",
       "[2*x21, 20*x22]])"
      ]
     },
     "execution_count": 84,
     "metadata": {},
     "output_type": "execute_result"
    }
   ],
   "source": [
    "print(\"The gradient of f(X) is:\")\n",
    "Df"
   ]
  },
  {
   "cell_type": "markdown",
   "metadata": {},
   "source": [
    "Problem 3:"
   ]
  },
  {
   "cell_type": "code",
   "execution_count": 85,
   "metadata": {},
   "outputs": [
    {
     "name": "stdout",
     "output_type": "stream",
     "text": [
      "Minimizer is: Xi = \n"
     ]
    },
    {
     "data": {
      "text/latex": [
       "$\\displaystyle \\left[\\begin{matrix}2.33460802160657 \\cdot 10^{-6} & -6.3541241674898 \\cdot 10^{-8}\\\\2.33460802160657 \\cdot 10^{-6} & -6.3541241674898 \\cdot 10^{-8}\\end{matrix}\\right]$"
      ],
      "text/plain": [
       "Matrix([\n",
       "[2.33460802160657e-6, -6.3541241674898e-8],\n",
       "[2.33460802160657e-6, -6.3541241674898e-8]])"
      ]
     },
     "metadata": {},
     "output_type": "display_data"
    },
    {
     "name": "stdout",
     "output_type": "stream",
     "text": [
      "(essentially the coordinate origin)\n"
     ]
    },
    {
     "data": {
      "image/png": "[encoded data removed]",
      "text/plain": [
       "<Figure size 750x500 with 1 Axes>"
      ]
     },
     "metadata": {},
     "output_type": "display_data"
    }
   ],
   "source": [
    "Xi = X.subs({x11: 1, x12: 1, x21: 1, x22: 1})    # initial guess\n",
    "fi = f.subs({x11: Xi[0,0], x12: Xi[0,1], x21: Xi[1,0], x22: Xi[1,1]})\n",
    "Dfi = Df.subs({x11: Xi[0,0], x12: Xi[0,1], x21: Xi[1,0], x22: Xi[1,1]})  \n",
    "Zi = Z.subs({x11: Xi[0,0], x12: Xi[0,1], x21: Xi[1,0], x22: Xi[1,1]})  \n",
    "Df_Zi = Df_Z.subs({x11: Xi[0,0], x12: Xi[0,1], x21: Xi[1,0], x22: Xi[1,1]})  \n",
    "\n",
    "i = 0\n",
    "f_list = []\n",
    "f_list.append(fi)\n",
    "\n",
    "while Dfi.norm() > epsilon:\n",
    "    n = 0\n",
    "    gamma = beta**n\n",
    "\n",
    "    while (f.subs({x11: Xi[0,0] + gamma*Zi[0,0], x12:Xi[0,1] + gamma*Zi[0,1], x21:Xi[1,0] + gamma*Zi[1,0],  \n",
    "                  x22:Xi[1,1] + gamma*Zi[1,1]}))[0] > (fi + sym.Matrix([alpha*gamma*Df_Zi]))[0]:\n",
    "        n += 1\n",
    "        gamma = beta**n  \n",
    "            \n",
    "    Xi += gamma*Zi\n",
    "    \n",
    "    fi = f.subs({x11: Xi[0,0], x12: Xi[0,1], x21: Xi[1,0], x22: Xi[1,1]})\n",
    "    Dfi = Df.subs({x11: Xi[0,0], x12: Xi[0,1], x21: Xi[1,0], x22: Xi[1,1]})  \n",
    "    Zi = Z.subs({x11: Xi[0,0], x12: Xi[0,1], x21: Xi[1,0], x22: Xi[1,1]})  \n",
    "    Df_Zi = Df_Z.subs({x11: Xi[0,0], x12: Xi[0,1], x21: Xi[1,0], x22: Xi[1,1]})  \n",
    "    \n",
    "    f_list.append(fi)\n",
    "    i += 1\n",
    "\n",
    "print(\"Minimizer is: Xi = \")\n",
    "display(Xi)\n",
    "print(\"(essentially the coordinate origin)\")\n",
    "\n",
    "plt.figure(dpi=125, facecolor='w')\n",
    "plt.plot([j for j in range(len(f_list))], [f_list[k][0] for k in range(len(f_list))])\n",
    "plt.xlabel('iteration')\n",
    "plt.ylabel('f(X)')\n",
    "plt.grid(True)\n",
    "plt.title(\"Plot of f(X) for every iteration\")\n",
    "plt.show()"
   ]
  }
 ],
 "metadata": {
  "kernelspec": {
   "display_name": "Python 3",
   "language": "python",
   "name": "python3"
  },
  "language_info": {
   "codemirror_mode": {
    "name": "ipython",
    "version": 3
   },
   "file_extension": ".py",
   "mimetype": "text/x-python",
   "name": "python",
   "nbconvert_exporter": "python",
   "pygments_lexer": "ipython3",
   "version": "3.7.6"
  }
 },
 "nbformat": 4,
 "nbformat_minor": 4
}
